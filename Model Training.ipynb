{
 "cells": [
  {
   "cell_type": "code",
   "execution_count": 1,
   "id": "50ac34ed",
   "metadata": {},
   "outputs": [],
   "source": [
    "import pandas as pd"
   ]
  },
  {
   "cell_type": "code",
   "execution_count": 2,
   "id": "8d218487",
   "metadata": {},
   "outputs": [],
   "source": [
    "df = pd.read_csv(\"spotify_millsongdata.csv\")"
   ]
  },
  {
   "cell_type": "code",
   "execution_count": 3,
   "id": "79919672",
   "metadata": {},
   "outputs": [
    {
     "data": {
      "text/html": [
       "<div>\n",
       "<style scoped>\n",
       "    .dataframe tbody tr th:only-of-type {\n",
       "        vertical-align: middle;\n",
       "    }\n",
       "\n",
       "    .dataframe tbody tr th {\n",
       "        vertical-align: top;\n",
       "    }\n",
       "\n",
       "    .dataframe thead th {\n",
       "        text-align: right;\n",
       "    }\n",
       "</style>\n",
       "<table border=\"1\" class=\"dataframe\">\n",
       "  <thead>\n",
       "    <tr style=\"text-align: right;\">\n",
       "      <th></th>\n",
       "      <th>artist</th>\n",
       "      <th>song</th>\n",
       "      <th>link</th>\n",
       "      <th>text</th>\n",
       "    </tr>\n",
       "  </thead>\n",
       "  <tbody>\n",
       "    <tr>\n",
       "      <th>0</th>\n",
       "      <td>ABBA</td>\n",
       "      <td>Ahe's My Kind Of Girl</td>\n",
       "      <td>/a/abba/ahes+my+kind+of+girl_20598417.html</td>\n",
       "      <td>Look at her face, it's a wonderful face  \\r\\nA...</td>\n",
       "    </tr>\n",
       "    <tr>\n",
       "      <th>1</th>\n",
       "      <td>ABBA</td>\n",
       "      <td>Andante, Andante</td>\n",
       "      <td>/a/abba/andante+andante_20002708.html</td>\n",
       "      <td>Take it easy with me, please  \\r\\nTouch me gen...</td>\n",
       "    </tr>\n",
       "    <tr>\n",
       "      <th>2</th>\n",
       "      <td>ABBA</td>\n",
       "      <td>As Good As New</td>\n",
       "      <td>/a/abba/as+good+as+new_20003033.html</td>\n",
       "      <td>I'll never know why I had to go  \\r\\nWhy I had...</td>\n",
       "    </tr>\n",
       "    <tr>\n",
       "      <th>3</th>\n",
       "      <td>ABBA</td>\n",
       "      <td>Bang</td>\n",
       "      <td>/a/abba/bang_20598415.html</td>\n",
       "      <td>Making somebody happy is a question of give an...</td>\n",
       "    </tr>\n",
       "    <tr>\n",
       "      <th>4</th>\n",
       "      <td>ABBA</td>\n",
       "      <td>Bang-A-Boomerang</td>\n",
       "      <td>/a/abba/bang+a+boomerang_20002668.html</td>\n",
       "      <td>Making somebody happy is a question of give an...</td>\n",
       "    </tr>\n",
       "  </tbody>\n",
       "</table>\n",
       "</div>"
      ],
      "text/plain": [
       "  artist                   song                                        link  \\\n",
       "0   ABBA  Ahe's My Kind Of Girl  /a/abba/ahes+my+kind+of+girl_20598417.html   \n",
       "1   ABBA       Andante, Andante       /a/abba/andante+andante_20002708.html   \n",
       "2   ABBA         As Good As New        /a/abba/as+good+as+new_20003033.html   \n",
       "3   ABBA                   Bang                  /a/abba/bang_20598415.html   \n",
       "4   ABBA       Bang-A-Boomerang      /a/abba/bang+a+boomerang_20002668.html   \n",
       "\n",
       "                                                text  \n",
       "0  Look at her face, it's a wonderful face  \\r\\nA...  \n",
       "1  Take it easy with me, please  \\r\\nTouch me gen...  \n",
       "2  I'll never know why I had to go  \\r\\nWhy I had...  \n",
       "3  Making somebody happy is a question of give an...  \n",
       "4  Making somebody happy is a question of give an...  "
      ]
     },
     "execution_count": 3,
     "metadata": {},
     "output_type": "execute_result"
    }
   ],
   "source": [
    "df.head(5)"
   ]
  },
  {
   "cell_type": "code",
   "execution_count": 4,
   "id": "b61c723f",
   "metadata": {},
   "outputs": [
    {
     "data": {
      "text/html": [
       "<div>\n",
       "<style scoped>\n",
       "    .dataframe tbody tr th:only-of-type {\n",
       "        vertical-align: middle;\n",
       "    }\n",
       "\n",
       "    .dataframe tbody tr th {\n",
       "        vertical-align: top;\n",
       "    }\n",
       "\n",
       "    .dataframe thead th {\n",
       "        text-align: right;\n",
       "    }\n",
       "</style>\n",
       "<table border=\"1\" class=\"dataframe\">\n",
       "  <thead>\n",
       "    <tr style=\"text-align: right;\">\n",
       "      <th></th>\n",
       "      <th>artist</th>\n",
       "      <th>song</th>\n",
       "      <th>link</th>\n",
       "      <th>text</th>\n",
       "    </tr>\n",
       "  </thead>\n",
       "  <tbody>\n",
       "    <tr>\n",
       "      <th>57645</th>\n",
       "      <td>Ziggy Marley</td>\n",
       "      <td>Good Old Days</td>\n",
       "      <td>/z/ziggy+marley/good+old+days_10198588.html</td>\n",
       "      <td>Irie days come on play  \\r\\nLet the angels fly...</td>\n",
       "    </tr>\n",
       "    <tr>\n",
       "      <th>57646</th>\n",
       "      <td>Ziggy Marley</td>\n",
       "      <td>Hand To Mouth</td>\n",
       "      <td>/z/ziggy+marley/hand+to+mouth_20531167.html</td>\n",
       "      <td>Power to the workers  \\r\\nMore power  \\r\\nPowe...</td>\n",
       "    </tr>\n",
       "    <tr>\n",
       "      <th>57647</th>\n",
       "      <td>Zwan</td>\n",
       "      <td>Come With Me</td>\n",
       "      <td>/z/zwan/come+with+me_20148981.html</td>\n",
       "      <td>all you need  \\r\\nis something i'll believe  \\...</td>\n",
       "    </tr>\n",
       "    <tr>\n",
       "      <th>57648</th>\n",
       "      <td>Zwan</td>\n",
       "      <td>Desire</td>\n",
       "      <td>/z/zwan/desire_20148986.html</td>\n",
       "      <td>northern star  \\r\\nam i frightened  \\r\\nwhere ...</td>\n",
       "    </tr>\n",
       "    <tr>\n",
       "      <th>57649</th>\n",
       "      <td>Zwan</td>\n",
       "      <td>Heartsong</td>\n",
       "      <td>/z/zwan/heartsong_20148991.html</td>\n",
       "      <td>come in  \\r\\nmake yourself at home  \\r\\ni'm a ...</td>\n",
       "    </tr>\n",
       "  </tbody>\n",
       "</table>\n",
       "</div>"
      ],
      "text/plain": [
       "             artist           song  \\\n",
       "57645  Ziggy Marley  Good Old Days   \n",
       "57646  Ziggy Marley  Hand To Mouth   \n",
       "57647          Zwan   Come With Me   \n",
       "57648          Zwan         Desire   \n",
       "57649          Zwan      Heartsong   \n",
       "\n",
       "                                              link  \\\n",
       "57645  /z/ziggy+marley/good+old+days_10198588.html   \n",
       "57646  /z/ziggy+marley/hand+to+mouth_20531167.html   \n",
       "57647           /z/zwan/come+with+me_20148981.html   \n",
       "57648                 /z/zwan/desire_20148986.html   \n",
       "57649              /z/zwan/heartsong_20148991.html   \n",
       "\n",
       "                                                    text  \n",
       "57645  Irie days come on play  \\r\\nLet the angels fly...  \n",
       "57646  Power to the workers  \\r\\nMore power  \\r\\nPowe...  \n",
       "57647  all you need  \\r\\nis something i'll believe  \\...  \n",
       "57648  northern star  \\r\\nam i frightened  \\r\\nwhere ...  \n",
       "57649  come in  \\r\\nmake yourself at home  \\r\\ni'm a ...  "
      ]
     },
     "execution_count": 4,
     "metadata": {},
     "output_type": "execute_result"
    }
   ],
   "source": [
    "df.tail(5)"
   ]
  },
  {
   "cell_type": "code",
   "execution_count": 5,
   "id": "d7d8fa2a",
   "metadata": {},
   "outputs": [
    {
     "data": {
      "text/plain": [
       "(57650, 4)"
      ]
     },
     "execution_count": 5,
     "metadata": {},
     "output_type": "execute_result"
    }
   ],
   "source": [
    "df.shape"
   ]
  },
  {
   "cell_type": "code",
   "execution_count": 6,
   "id": "a8fdecf9",
   "metadata": {},
   "outputs": [
    {
     "data": {
      "text/plain": [
       "artist    0\n",
       "song      0\n",
       "link      0\n",
       "text      0\n",
       "dtype: int64"
      ]
     },
     "execution_count": 6,
     "metadata": {},
     "output_type": "execute_result"
    }
   ],
   "source": [
    "df.isnull().sum()"
   ]
  },
  {
   "cell_type": "code",
   "execution_count": 7,
   "id": "dde3d24b",
   "metadata": {},
   "outputs": [],
   "source": [
    "df =df.sample(5000).drop('link', axis=1).reset_index(drop=True)"
   ]
  },
  {
   "cell_type": "code",
   "execution_count": 8,
   "id": "cf5ff69f",
   "metadata": {},
   "outputs": [
    {
     "data": {
      "text/html": [
       "<div>\n",
       "<style scoped>\n",
       "    .dataframe tbody tr th:only-of-type {\n",
       "        vertical-align: middle;\n",
       "    }\n",
       "\n",
       "    .dataframe tbody tr th {\n",
       "        vertical-align: top;\n",
       "    }\n",
       "\n",
       "    .dataframe thead th {\n",
       "        text-align: right;\n",
       "    }\n",
       "</style>\n",
       "<table border=\"1\" class=\"dataframe\">\n",
       "  <thead>\n",
       "    <tr style=\"text-align: right;\">\n",
       "      <th></th>\n",
       "      <th>artist</th>\n",
       "      <th>song</th>\n",
       "      <th>text</th>\n",
       "    </tr>\n",
       "  </thead>\n",
       "  <tbody>\n",
       "    <tr>\n",
       "      <th>0</th>\n",
       "      <td>J Cole</td>\n",
       "      <td>Farewell</td>\n",
       "      <td>Yeah, farewell  \\r\\nHey, farewell  \\r\\nAlllmy ...</td>\n",
       "    </tr>\n",
       "    <tr>\n",
       "      <th>1</th>\n",
       "      <td>Xscape</td>\n",
       "      <td>Softest Place On Earth</td>\n",
       "      <td>It's a glowing little feeling,  \\r\\nLike a sum...</td>\n",
       "    </tr>\n",
       "    <tr>\n",
       "      <th>2</th>\n",
       "      <td>Flo-Rida</td>\n",
       "      <td>Jump</td>\n",
       "      <td>[Chorus: Nelly Furtado]  \\r\\nWhen I say jump, ...</td>\n",
       "    </tr>\n",
       "    <tr>\n",
       "      <th>3</th>\n",
       "      <td>Horrible Histories</td>\n",
       "      <td>Mary Seacole Song</td>\n",
       "      <td>Me name Mary Seacole, famous nurse  \\r\\nTo de ...</td>\n",
       "    </tr>\n",
       "    <tr>\n",
       "      <th>4</th>\n",
       "      <td>George Jones</td>\n",
       "      <td>C.C. Waterback</td>\n",
       "      <td>CC Waterback one tequila sunrise  \\r\\nOne's fo...</td>\n",
       "    </tr>\n",
       "    <tr>\n",
       "      <th>5</th>\n",
       "      <td>Iggy Pop</td>\n",
       "      <td>Cold Metal</td>\n",
       "      <td>I played tag in the auto graveyard  \\r\\nI look...</td>\n",
       "    </tr>\n",
       "    <tr>\n",
       "      <th>6</th>\n",
       "      <td>Bonnie Raitt</td>\n",
       "      <td>You're Gonna Get What's Coming</td>\n",
       "      <td>You came up on me like a landslide  \\r\\nOnce i...</td>\n",
       "    </tr>\n",
       "    <tr>\n",
       "      <th>7</th>\n",
       "      <td>Nazareth</td>\n",
       "      <td>I Will Not Be Led</td>\n",
       "      <td>You have your rules and regulations,  \\r\\nYou ...</td>\n",
       "    </tr>\n",
       "    <tr>\n",
       "      <th>8</th>\n",
       "      <td>Ace Of Base</td>\n",
       "      <td>Donnie</td>\n",
       "      <td>Donnie's got a secret and you know it  \\r\\nHe ...</td>\n",
       "    </tr>\n",
       "    <tr>\n",
       "      <th>9</th>\n",
       "      <td>Sia</td>\n",
       "      <td>One More Shot</td>\n",
       "      <td>I, I, I never would have thought it would end ...</td>\n",
       "    </tr>\n",
       "  </tbody>\n",
       "</table>\n",
       "</div>"
      ],
      "text/plain": [
       "               artist                            song  \\\n",
       "0              J Cole                        Farewell   \n",
       "1              Xscape          Softest Place On Earth   \n",
       "2            Flo-Rida                            Jump   \n",
       "3  Horrible Histories               Mary Seacole Song   \n",
       "4        George Jones                  C.C. Waterback   \n",
       "5            Iggy Pop                      Cold Metal   \n",
       "6        Bonnie Raitt  You're Gonna Get What's Coming   \n",
       "7            Nazareth               I Will Not Be Led   \n",
       "8         Ace Of Base                          Donnie   \n",
       "9                 Sia                   One More Shot   \n",
       "\n",
       "                                                text  \n",
       "0  Yeah, farewell  \\r\\nHey, farewell  \\r\\nAlllmy ...  \n",
       "1  It's a glowing little feeling,  \\r\\nLike a sum...  \n",
       "2  [Chorus: Nelly Furtado]  \\r\\nWhen I say jump, ...  \n",
       "3  Me name Mary Seacole, famous nurse  \\r\\nTo de ...  \n",
       "4  CC Waterback one tequila sunrise  \\r\\nOne's fo...  \n",
       "5  I played tag in the auto graveyard  \\r\\nI look...  \n",
       "6  You came up on me like a landslide  \\r\\nOnce i...  \n",
       "7  You have your rules and regulations,  \\r\\nYou ...  \n",
       "8  Donnie's got a secret and you know it  \\r\\nHe ...  \n",
       "9  I, I, I never would have thought it would end ...  "
      ]
     },
     "execution_count": 8,
     "metadata": {},
     "output_type": "execute_result"
    }
   ],
   "source": [
    "df.head(10)"
   ]
  },
  {
   "cell_type": "code",
   "execution_count": 9,
   "id": "26eb5b1c",
   "metadata": {},
   "outputs": [
    {
     "data": {
      "text/plain": [
       "'Yeah, farewell  \\r\\nHey, farewell  \\r\\nAlllmy n-ggas farewell  \\r\\nFayettenam  \\r\\n  \\r\\nLook, some n-ggas let there dirt out,  \\r\\nSome n-ggas keep it in \\'em  \\r\\nSo when a man dies all his secrets go with him  \\r\\nAnd fame a part of history no longer known  \\r\\nDone did a lot of dirt I\\'ll bury with me when I\\'m gone  \\r\\nWhen my story\\'s told, how will they tell it?  \\r\\nWill they say I was a giver or will they say I was selfish  \\r\\nWill they say I was a sinner or pretend I was a saint  \\r\\nWill I go down as a winner, what\\'s the picture they gon paint  \\r\\nWouldn\\'t say that I\\'m a quitter that\\'s one thing I know I aint aint  \\r\\nWill they tarnish, will they taint?  \\r\\nGlorify me, overthink, say they know me, say I\\'m great  \\r\\nSay I\\'m phoney, I was fake  \\r\\nSay the things about me they never told me to my face  \\r\\nI was loved I was hated  \\r\\nJust a n-gga with a dream  \\r\\nI\\'m a liar I was honest, I was all of these things  \\r\\nWhen I\\'m gone let em talk  \\r\\nThey discussing who I am  \\r\\nWhen they bury me just know I was nothing but a man  \\r\\nWasn\\'t nothin\\' but a man  \\r\\n  \\r\\nThis for n-ggas climbin\\' heavens stairwell  \\r\\nYeah, hey farewell  \\r\\nYeh, hey farewell  \\r\\nThis for n-ggas climbin\\' heavens stairwell  \\r\\nI pray you farewell  \\r\\nI bid you farewell  \\r\\nYeah, ey, farewell  \\r\\nYeah, yeah  \\r\\n  \\r\\nIf I should die Lord this here is my will  \\r\\nReincarnate a n-gga send me right back to the Ville  \\r\\nLet me relive my younger days just once again  \\r\\nReenact my memories from every friend to every sin  \\r\\nKeeping demons buried in my closet  \\r\\nBut yet I put in work like a deposit on my bank account  \\r\\nMy eyes lit while I think about my childhood now I\\'m blanking out  \\r\\nThose were truly my best days  \\r\\nThe only thing I had to stress was how the hell to get laid  \\r\\nGradually turn into me stressin\\' how the hell to get paid  \\r\\nBeen making songs so long, now how the hell they get played  \\r\\nOk, I\\'m blowing up quickly  \\r\\nI guess the flow is sickly  \\r\\nBut yet I can\\'t forget my past and hope it won\\'t forget me  \\r\\nGot good grades but age can\\'t stop strays so pray for me  \\r\\nPour liquor for my n-ggas but hey, don\\'t wait for me  \\r\\nCause I\\'m trying to cheat death, she had to bury my ass  \\r\\nYou know the cliche \"lifes a bitch\" well I\\'m gon marry that ass  \\r\\nAnd sign a pre-nup  \\r\\nThink back to when we tore the skating rink up  \\r\\nRapping and we scrapping, we got older hit the teen club  \\r\\nGave mean mugs to n-ggas but we winked to all the girls  \\r\\nThen we went back to the crib thinking we had saw the World  \\r\\nNo way, came a long way from having mom chauffer  \\r\\nIt\\'s hard to think these hoes at some point were so pure  \\r\\nBut now we play the game, when it\\'s over send me back  \\r\\nI swear I\\'m not gon change a thing  \\r\\nI swear I\\'m not gon change a thing  \\r\\n  \\r\\nThis for them n-ggas climbin\\' heavens stairwell  \\r\\nYeah, hey farewell  \\r\\nI pray you n-ggas farewell  \\r\\nThis for n-ggas climbin\\' heavens stairwell  \\r\\nHey farewell, hey farewell  \\r\\nYeah, farewell  \\r\\nYeh\\r\\n\\r\\n'"
      ]
     },
     "execution_count": 9,
     "metadata": {},
     "output_type": "execute_result"
    }
   ],
   "source": [
    "df['text'][0]"
   ]
  },
  {
   "cell_type": "code",
   "execution_count": 10,
   "id": "dc76d0f4",
   "metadata": {},
   "outputs": [],
   "source": [
    "# df = df.sample(5000)"
   ]
  },
  {
   "cell_type": "code",
   "execution_count": 11,
   "id": "4a0c4186",
   "metadata": {},
   "outputs": [
    {
     "data": {
      "text/plain": [
       "(5000, 3)"
      ]
     },
     "execution_count": 11,
     "metadata": {},
     "output_type": "execute_result"
    }
   ],
   "source": [
    "df.shape"
   ]
  },
  {
   "cell_type": "markdown",
   "id": "865afecc",
   "metadata": {},
   "source": [
    "Text Cleaning/ Text Preprocessing"
   ]
  },
  {
   "cell_type": "code",
   "execution_count": 12,
   "id": "b2359525",
   "metadata": {},
   "outputs": [],
   "source": [
    "df['text'] = df['text'].str.lower().replace(r'^\\w\\s', ' ').replace(r'\\n', ' ', regex = True)"
   ]
  },
  {
   "cell_type": "code",
   "execution_count": 13,
   "id": "7e78451e",
   "metadata": {},
   "outputs": [],
   "source": [
    "import nltk\n",
    "from nltk.stem.porter import PorterStemmer\n",
    "stemmer = PorterStemmer()\n",
    "\n",
    "def tokenization(txt):\n",
    "    tokens = nltk.word_tokenize(txt)\n",
    "    stemming = [stemmer.stem(w) for w in tokens]\n",
    "    return \" \".join(stemming)"
   ]
  },
  {
   "cell_type": "code",
   "execution_count": 15,
   "id": "f5c1ece2",
   "metadata": {},
   "outputs": [],
   "source": [
    "# Import or define the tokenization function\n",
    "def tokenization(text):\n",
    "    # Your tokenization logic goes here\n",
    "    # For example, using a simple split for illustration\n",
    "    tokens = text.split()\n",
    "    return tokens\n",
    "\n",
    "# Now, apply the tokenization function to the 'text' column\n",
    "df['text'] = df['text'].apply(lambda x: tokenization(x))\n"
   ]
  },
  {
   "cell_type": "code",
   "execution_count": 16,
   "id": "95fc3be2",
   "metadata": {},
   "outputs": [],
   "source": [
    "from sklearn.feature_extraction.text import TfidfVectorizer\n",
    "from sklearn.metrics.pairwise import cosine_similarity"
   ]
  },
  {
   "cell_type": "code",
   "execution_count": 19,
   "id": "f4945e8f",
   "metadata": {},
   "outputs": [],
   "source": [
    "from sklearn.feature_extraction.text import TfidfVectorizer\n",
    "from sklearn.metrics.pairwise import cosine_similarity\n",
    "\n",
    "# Assuming 'df' is your DataFrame and 'text' is the column you want to analyze\n",
    "# Make sure 'text' is a valid column containing lists of words\n",
    "\n",
    "# Convert each list of words into a string\n",
    "df['text'] = df['text'].apply(lambda x: ' '.join(map(str, x)))\n",
    "\n",
    "# Create a TF-IDF vectorizer\n",
    "tfidf_vectorizer = TfidfVectorizer(analyzer='word', stop_words='english')\n",
    "\n",
    "# Fit and transform the 'text' column to obtain the TF-IDF matrix\n",
    "tfidf_matrix = tfidf_vectorizer.fit_transform(df['text'])\n",
    "\n",
    "# Calculate cosine similarity between documents\n",
    "similarity_matrix = cosine_similarity(tfidf_matrix)\n",
    "\n",
    "# 'similarity_matrix' now contains the pairwise cosine similarity between documents\n"
   ]
  },
  {
   "cell_type": "code",
   "execution_count": 21,
   "id": "c1794772",
   "metadata": {},
   "outputs": [
    {
     "name": "stdout",
     "output_type": "stream",
     "text": [
      "[1.         0.00995539 0.03262756 ... 0.0128126  0.00124091 0.00727882]\n"
     ]
    }
   ],
   "source": [
    "# Assuming similarity_matrix is a NumPy array\n",
    "\n",
    "# Access the first row of the similarity matrix\n",
    "first_row_similarity = similarity_matrix[0]\n",
    "\n",
    "# Display or use the first row\n",
    "print(first_row_similarity)\n"
   ]
  },
  {
   "cell_type": "code",
   "execution_count": 22,
   "id": "a6221770",
   "metadata": {},
   "outputs": [
    {
     "data": {
      "text/html": [
       "<div>\n",
       "<style scoped>\n",
       "    .dataframe tbody tr th:only-of-type {\n",
       "        vertical-align: middle;\n",
       "    }\n",
       "\n",
       "    .dataframe tbody tr th {\n",
       "        vertical-align: top;\n",
       "    }\n",
       "\n",
       "    .dataframe thead th {\n",
       "        text-align: right;\n",
       "    }\n",
       "</style>\n",
       "<table border=\"1\" class=\"dataframe\">\n",
       "  <thead>\n",
       "    <tr style=\"text-align: right;\">\n",
       "      <th></th>\n",
       "      <th>artist</th>\n",
       "      <th>song</th>\n",
       "      <th>text</th>\n",
       "    </tr>\n",
       "  </thead>\n",
       "  <tbody>\n",
       "    <tr>\n",
       "      <th>4771</th>\n",
       "      <td>ABBA</td>\n",
       "      <td>Crying Over You</td>\n",
       "      <td>i'm waitin' for you baby i'm sitting all alone...</td>\n",
       "    </tr>\n",
       "  </tbody>\n",
       "</table>\n",
       "</div>"
      ],
      "text/plain": [
       "     artist             song  \\\n",
       "4771   ABBA  Crying Over You   \n",
       "\n",
       "                                                   text  \n",
       "4771  i'm waitin' for you baby i'm sitting all alone...  "
      ]
     },
     "execution_count": 22,
     "metadata": {},
     "output_type": "execute_result"
    }
   ],
   "source": [
    "df[df['song'] == 'Crying Over You']"
   ]
  },
  {
   "cell_type": "code",
   "execution_count": 23,
   "id": "5aaa2361",
   "metadata": {},
   "outputs": [],
   "source": [
    "def recommendation(song_df):\n",
    "    idx = df[df['song'] == song_df].index[0]\n",
    "    distances = sorted(list(enumerate(similarity[idx])),reverse=True,key=lambda x:x[1])\n",
    "    \n",
    "    songs = []\n",
    "    for m_id in distances[1:21]:\n",
    "        songs.append(df.iloc[m_id[0]].song)\n",
    "        \n",
    "    return songs"
   ]
  },
  {
   "cell_type": "code",
   "execution_count": 29,
   "id": "216c25bb",
   "metadata": {},
   "outputs": [
    {
     "name": "stdout",
     "output_type": "stream",
     "text": [
      "[\"Cryin'\", 'Blue Eyes Crying In The Rain', 'Epitaph', 'Oh My Lord', \"Ain't Nobody's Business\", 'Blue, Blue Day', 'Baby', \"I'm In A Blue, Blue Mood\", 'You Move Me', 'The Same Love That Made Me Laugh', 'Blue Morning, Blue Day', 'Even Me', 'Blue Is Not A Word', 'Something Out Of The Blue', 'Almost Blue', 'Stand Alone', \"Aren't You The Girl\", 'Blue Again', 'Cool Blue', \"I'd Still Want You\"]\n"
     ]
    }
   ],
   "source": [
    "def recommendation(song_df):\n",
    "    idx = df[df['song'] == song_df].index[0]\n",
    "    distances = sorted(list(enumerate(similarity_matrix[idx])), reverse=True, key=lambda x: x[1])\n",
    "    songs = []\n",
    "    for m_id in distances[1:21]:\n",
    "        songs.append(df['song'].iloc[m_id[0]])\n",
    "    return songs\n",
    "# Example usage:\n",
    "recommended_songs = recommendation('Crying Over You')\n",
    "\n",
    "# Display the recommended songs\n",
    "print(recommended_songs)\n"
   ]
  },
  {
   "cell_type": "code",
   "execution_count": 31,
   "id": "18192437",
   "metadata": {},
   "outputs": [],
   "source": [
    "import pickle\n",
    "\n",
    "# Assuming similarity_matrix and df are defined in your code\n",
    "# If similarity_matrix is the cosine similarity matrix and df is your DataFrame\n",
    "\n",
    "# Dump the similarity_matrix into a pickle file\n",
    "with open('similarity.pkl', 'wb') as file:\n",
    "    pickle.dump(similarity_matrix, file)\n",
    "\n",
    "# Dump the df DataFrame into a pickle file\n",
    "with open('df.pkl', 'wb') as file:\n",
    "    pickle.dump(df, file)\n"
   ]
  },
  {
   "cell_type": "code",
   "execution_count": null,
   "id": "e7edcf20",
   "metadata": {},
   "outputs": [],
   "source": []
  }
 ],
 "metadata": {
  "kernelspec": {
   "display_name": "Python 3",
   "language": "python",
   "name": "python3"
  },
  "language_info": {
   "codemirror_mode": {
    "name": "ipython",
    "version": 3
   },
   "file_extension": ".py",
   "mimetype": "text/x-python",
   "name": "python",
   "nbconvert_exporter": "python",
   "pygments_lexer": "ipython3",
   "version": "3.12.0"
  }
 },
 "nbformat": 4,
 "nbformat_minor": 5
}
